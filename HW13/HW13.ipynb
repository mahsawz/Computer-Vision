{
 "cells": [
  {
   "cell_type": "markdown",
   "metadata": {
    "id": "sD1yPmVNXm8m"
   },
   "source": [
    "# HomeWork 13\n",
    "\n",
    "**DeadLine : 23:59 4 Day 1399**\n",
    "\n",
    "**Total points : 100pts**"
   ]
  },
  {
   "cell_type": "markdown",
   "metadata": {
    "id": "hhrR7mCFXm8s"
   },
   "source": [
    "Import some prerequisites:"
   ]
  },
  {
   "cell_type": "code",
   "execution_count": 1,
   "metadata": {
    "id": "RTfPR5WiXm8s"
   },
   "outputs": [],
   "source": [
    "import cv2\n",
    "import numpy as np\n",
    "import matplotlib.pyplot as plt\n",
    "import pandas as pd\n",
    "import seaborn as sn\n",
    "from keras.optimizers import SGD\n",
    "from tensorflow import keras"
   ]
  },
  {
   "cell_type": "markdown",
   "metadata": {
    "id": "p5IxLB1pXm8t"
   },
   "source": [
    "Run this cell for plotting."
   ]
  },
  {
   "cell_type": "code",
   "execution_count": 2,
   "metadata": {
    "id": "H5XG8oZMXm8t"
   },
   "outputs": [],
   "source": [
    "def plotter(img_list, r, w, gray, wr, hr, fig_name = None):\n",
    "    '''\n",
    "    Plots images' list with its' caption and saves result image if you want.\n",
    "\n",
    "    Parameters:\n",
    "        img_list (list): The list of tuples of image and its' caption.\n",
    "        r (int): The number of row(s).\n",
    "        w (int): The number of colunm(s).\n",
    "        gray (bool): The flag for plotting images in grayscale mode.\n",
    "        wr (int): The width of one figure.\n",
    "        hr (int): The height of one figure.\n",
    "        fig_name (str): The name of the image of the plot. if not set this parameter the plot doesn't save.\n",
    "    '''\n",
    "    \n",
    "    plt.rcParams['figure.figsize'] = (wr, hr)\n",
    "    for i in range(len(img_list)):\n",
    "        plt.subplot(r, w, i + 1)\n",
    "        if img_list[i][2] == 'img':\n",
    "            if gray:\n",
    "                plt.imshow(img_list[i][0], cmap = 'gray')\n",
    "            else:\n",
    "                plt.imshow(img_list[i][0])\n",
    "            plt.xticks([])\n",
    "            plt.yticks([])\n",
    "        elif img_list[i][2] == 'hist':\n",
    "            plt.bar(np.arange(len(img_list[i][0])), img_list[i][0], color = 'c')\n",
    "        else:\n",
    "            raise Exception(\"Only image or histogram. Use third parameter of tuples in img_list and set it to img or hist.\")\n",
    "        plt.title(img_list[i][1])\n",
    "    if fig_name is not None:\n",
    "        plt.savefig(fig_name + '.png')\n",
    "    plt.show()"
   ]
  },
  {
   "cell_type": "markdown",
   "metadata": {
    "id": "js8-2tlCXm8t"
   },
   "source": [
    "Run this cell for plotting evaluation."
   ]
  },
  {
   "cell_type": "code",
   "execution_count": 3,
   "metadata": {
    "id": "BkOBufvGXm8u"
   },
   "outputs": [],
   "source": [
    "from sklearn.metrics import accuracy_score, f1_score, confusion_matrix\n",
    "\n",
    "\n",
    "def evaluation(y_test, y_pred, fig_name, title):\n",
    "    '''\n",
    "    Prints accuracy and F1-score and plots confusion matrix and saves result image.\n",
    "\n",
    "    Parameters:\n",
    "        y_test (numpy.ndarray) : test labels (ground truth)\n",
    "        y_pred (numpy.ndarray) : predicted labels \n",
    "        fig_name (str): The name of the image of the plot.\n",
    "        title (str): The caption of the plot.\n",
    "    '''\n",
    "\n",
    "    acc = accuracy_score(y_test, y_pred)\n",
    "    print('Accuracy for', title, '=', acc)\n",
    "    f1 = f1_score(y_test, y_pred, average = 'macro')\n",
    "    print('F1 score for', title, '=', f1)\n",
    "    cm = confusion_matrix(y_test, y_pred)\n",
    "    df_cm = pd.DataFrame(cm, range(10), range(10))\n",
    "    plt.figure(figsize = (10, 7))\n",
    "    sn.set(font_scale = 1.4) # for label size\n",
    "    sn.heatmap(df_cm , annot = True, annot_kws = {\"size\" : 16}, fmt = 'g') # font size\n",
    "    plt.title(title)\n",
    "    plt.savefig(fig_name + '.png')\n",
    "    plt.show()"
   ]
  },
  {
   "cell_type": "markdown",
   "metadata": {
    "id": "OHdJYdvWXm8u"
   },
   "source": [
    "Here is for your helper functions(optional)"
   ]
  },
  {
   "cell_type": "code",
   "execution_count": null,
   "metadata": {
    "id": "l5N8tFkdXm8u"
   },
   "outputs": [],
   "source": []
  },
  {
   "cell_type": "markdown",
   "metadata": {
    "id": "qeyKhRkGXm8v"
   },
   "source": [
    "Getting the data:"
   ]
  },
  {
   "cell_type": "code",
   "execution_count": 4,
   "metadata": {
    "id": "qXat_Qo7Xm8v"
   },
   "outputs": [],
   "source": [
    "from keras.datasets import fashion_mnist\n",
    "\n",
    "# The data, split between train and test sets:\n",
    "(x_train, y_train), (x_test, y_test) = fashion_mnist.load_data()"
   ]
  },
  {
   "cell_type": "code",
   "execution_count": 5,
   "metadata": {
    "colab": {
     "base_uri": "https://localhost:8080/",
     "height": 187
    },
    "id": "NIh2S1V9H6m_",
    "outputId": "225dce90-ec89-48d4-afe0-476efd1f1d3b"
   },
   "outputs": [
    {
     "data": {
      "image/png": "[encoded data removed]",
      "text/plain": [
       "<Figure size 1800x288 with 8 Axes>"
      ]
     },
     "metadata": {
      "tags": []
     },
     "output_type": "display_data"
    }
   ],
   "source": [
    "# show dataset\n",
    "plt.figure(figsize=(25,4))\n",
    "for i in range(8):\n",
    "    plt.subplot(1,8,i+1)\n",
    "    plt.imshow(x_train[i], cmap='gray')\n",
    "    plt.xticks([])\n",
    "    plt.yticks([])\n",
    "    plt.title(y_train[i])"
   ]
  },
  {
   "cell_type": "code",
   "execution_count": 6,
   "metadata": {
    "id": "afRtlb-QIOQq"
   },
   "outputs": [],
   "source": [
    "# Convert class vectors to binary class matrices.\n",
    "num_classes = 10\n",
    "y_train = keras.utils.to_categorical(y_train, num_classes)\n",
    "y_test = keras.utils.to_categorical(y_test, num_classes)\n",
    "x_train = x_train.reshape((x_train.shape[0] ,28 ,28 ,1))\n",
    "x_test = x_test.reshape((x_test.shape[0] ,28 ,28 ,1))\n",
    "x_train = x_train.astype(float) / 255\n",
    "x_test = x_test.astype(float) / 255"
   ]
  },
  {
   "cell_type": "markdown",
   "metadata": {
    "id": "fgWebiKnXm8v"
   },
   "source": [
    "Create your model."
   ]
  },
  {
   "cell_type": "code",
   "execution_count": 21,
   "metadata": {
    "colab": {
     "base_uri": "https://localhost:8080/"
    },
    "id": "af0_brIBXm8v",
    "outputId": "a96b50ba-b993-4e0f-9870-2c6c706f5b9f"
   },
   "outputs": [
    {
     "name": "stdout",
     "output_type": "stream",
     "text": [
      "Model: \"model_4\"\n",
      "__________________________________________________________________________________________________\n",
      "Layer (type)                    Output Shape         Param #     Connected to                     \n",
      "==================================================================================================\n",
      "input_6 (InputLayer)            [(None, 28, 28, 1)]  0                                            \n",
      "__________________________________________________________________________________________________\n",
      "conv2d_43 (Conv2D)              (None, 28, 28, 96)   192         input_6[0][0]                    \n",
      "__________________________________________________________________________________________________\n",
      "conv2d_45 (Conv2D)              (None, 28, 28, 16)   32          input_6[0][0]                    \n",
      "__________________________________________________________________________________________________\n",
      "max_pooling2d_7 (MaxPooling2D)  (None, 28, 28, 1)    0           input_6[0][0]                    \n",
      "__________________________________________________________________________________________________\n",
      "conv2d_42 (Conv2D)              (None, 28, 28, 64)   128         input_6[0][0]                    \n",
      "__________________________________________________________________________________________________\n",
      "conv2d_44 (Conv2D)              (None, 28, 28, 128)  110720      conv2d_43[0][0]                  \n",
      "__________________________________________________________________________________________________\n",
      "conv2d_46 (Conv2D)              (None, 28, 28, 32)   12832       conv2d_45[0][0]                  \n",
      "__________________________________________________________________________________________________\n",
      "conv2d_47 (Conv2D)              (None, 28, 28, 32)   64          max_pooling2d_7[0][0]            \n",
      "__________________________________________________________________________________________________\n",
      "concatenate_7 (Concatenate)     (None, 28, 28, 256)  0           conv2d_42[0][0]                  \n",
      "                                                                 conv2d_44[0][0]                  \n",
      "                                                                 conv2d_46[0][0]                  \n",
      "                                                                 conv2d_47[0][0]                  \n",
      "__________________________________________________________________________________________________\n",
      "conv2d_49 (Conv2D)              (None, 28, 28, 128)  32896       concatenate_7[0][0]              \n",
      "__________________________________________________________________________________________________\n",
      "conv2d_51 (Conv2D)              (None, 28, 28, 32)   8224        concatenate_7[0][0]              \n",
      "__________________________________________________________________________________________________\n",
      "max_pooling2d_8 (MaxPooling2D)  (None, 28, 28, 256)  0           concatenate_7[0][0]              \n",
      "__________________________________________________________________________________________________\n",
      "conv2d_48 (Conv2D)              (None, 28, 28, 128)  32896       concatenate_7[0][0]              \n",
      "__________________________________________________________________________________________________\n",
      "conv2d_50 (Conv2D)              (None, 28, 28, 192)  221376      conv2d_49[0][0]                  \n",
      "__________________________________________________________________________________________________\n",
      "conv2d_52 (Conv2D)              (None, 28, 28, 96)   76896       conv2d_51[0][0]                  \n",
      "__________________________________________________________________________________________________\n",
      "conv2d_53 (Conv2D)              (None, 28, 28, 64)   16448       max_pooling2d_8[0][0]            \n",
      "__________________________________________________________________________________________________\n",
      "concatenate_8 (Concatenate)     (None, 28, 28, 480)  0           conv2d_48[0][0]                  \n",
      "                                                                 conv2d_50[0][0]                  \n",
      "                                                                 conv2d_52[0][0]                  \n",
      "                                                                 conv2d_53[0][0]                  \n",
      "__________________________________________________________________________________________________\n",
      "flatten_2 (Flatten)             (None, 376320)       0           concatenate_8[0][0]              \n",
      "__________________________________________________________________________________________________\n",
      "dense_2 (Dense)                 (None, 100)          37632100    flatten_2[0][0]                  \n",
      "__________________________________________________________________________________________________\n",
      "dense_3 (Dense)                 (None, 10)           1010        dense_2[0][0]                    \n",
      "==================================================================================================\n",
      "Total params: 38,145,814\n",
      "Trainable params: 38,145,814\n",
      "Non-trainable params: 0\n",
      "__________________________________________________________________________________________________\n"
     ]
    }
   ],
   "source": [
    "# define model\n",
    "# model = keras.Sequential()\n",
    "# model.add(keras.layers.Input(shape=x_train[0].shape))\n",
    "# model.add(keras.layers.Conv2D(filters=32, kernel_size=(3,3), activation='relu'))\n",
    "# model.add(keras.layers.MaxPool2D())\n",
    "# model.add(keras.layers.Flatten())\n",
    "# model.add(keras.layers.Dense(units=100, activation='relu'))\n",
    "# model.add(keras.layers.Dense(num_classes, activation='softmax'))\n",
    "\n",
    "# Inception module\n",
    "def inception_module(layer_in, f1, f2_in, f2_out, f3_in, f3_out, f4_out):\n",
    "    # 1x1 conv\n",
    "    conv1 = keras.layers.Conv2D(f1, (1,1), padding='same', activation='relu')(layer_in)\n",
    "    # 3x3 conv\n",
    "    conv3 = keras.layers.Conv2D(f2_in, (1,1), padding='same', activation='relu')(layer_in)\n",
    "    conv3 = keras.layers.Conv2D(f2_out, (3,3), padding='same', activation='relu')(conv3)\n",
    "    # 5x5 conv\n",
    "    conv5 = keras.layers.Conv2D(f3_in, (1,1), padding='same', activation='relu')(layer_in)\n",
    "    conv5 = keras.layers.Conv2D(f3_out, (5,5), padding='same', activation='relu')(conv5)\n",
    "    # 3x3 max pooling\n",
    "    pool = keras.layers.MaxPooling2D((3,3), strides=(1,1), padding='same')(layer_in)\n",
    "    pool = keras.layers.Conv2D(f4_out, (1,1), padding='same', activation='relu')(pool)\n",
    "    # concatenate filters, assumes filters/channels last\n",
    "    layer_out = keras.layers.Concatenate(axis=-1)([conv1, conv3, conv5, pool])\n",
    "\n",
    "    return layer_out\n",
    "\n",
    "input = keras.layers.Input(shape=x_train[0].shape)\n",
    "# add inception block \n",
    "layers = inception_module(input, 64, 96, 128, 16, 32, 32)\n",
    "# add another inception block \n",
    "layers = inception_module(layers, 128, 128, 192, 32, 96, 64)\n",
    "\n",
    "flatten = keras.layers.Flatten()(layers)\n",
    "dense = keras.layers.Dense(units=100, activation='relu')(flatten)\n",
    "dense = keras.layers.Dense(num_classes, activation='softmax')(dense)\n",
    "\n",
    "model = keras.models.Model(inputs=input, outputs=dense)\n",
    "\n",
    "model.summary()"
   ]
  },
  {
   "cell_type": "markdown",
   "metadata": {
    "id": "f3Eh1j_KXm8v"
   },
   "source": [
    "Train your model."
   ]
  },
  {
   "cell_type": "code",
   "execution_count": 22,
   "metadata": {
    "colab": {
     "base_uri": "https://localhost:8080/"
    },
    "id": "mKr93P_RXm8w",
    "outputId": "6170a975-ad0e-4135-b9b4-52001bda7cc3"
   },
   "outputs": [
    {
     "name": "stdout",
     "output_type": "stream",
     "text": [
      "Epoch 1/10\n",
      "600/600 [==============================] - 49s 79ms/step - loss: 0.6355 - accuracy: 0.8020 - val_loss: 0.2888 - val_accuracy: 0.8930\n",
      "Epoch 2/10\n",
      "600/600 [==============================] - 48s 81ms/step - loss: 0.2266 - accuracy: 0.9161 - val_loss: 0.2384 - val_accuracy: 0.9150\n",
      "Epoch 3/10\n",
      "600/600 [==============================] - 49s 82ms/step - loss: 0.1551 - accuracy: 0.9418 - val_loss: 0.2432 - val_accuracy: 0.9151\n",
      "Epoch 4/10\n",
      "600/600 [==============================] - 50s 83ms/step - loss: 0.1029 - accuracy: 0.9626 - val_loss: 0.2408 - val_accuracy: 0.9201\n",
      "Epoch 5/10\n",
      "600/600 [==============================] - 50s 83ms/step - loss: 0.0656 - accuracy: 0.9768 - val_loss: 0.2884 - val_accuracy: 0.9200\n",
      "Epoch 6/10\n",
      "600/600 [==============================] - 50s 84ms/step - loss: 0.0414 - accuracy: 0.9853 - val_loss: 0.3403 - val_accuracy: 0.9169\n",
      "Epoch 7/10\n",
      "600/600 [==============================] - 50s 84ms/step - loss: 0.0266 - accuracy: 0.9910 - val_loss: 0.3782 - val_accuracy: 0.9191\n",
      "Epoch 8/10\n",
      "600/600 [==============================] - 50s 84ms/step - loss: 0.0180 - accuracy: 0.9937 - val_loss: 0.4499 - val_accuracy: 0.9158\n",
      "Epoch 9/10\n",
      "600/600 [==============================] - 50s 84ms/step - loss: 0.0178 - accuracy: 0.9939 - val_loss: 0.4833 - val_accuracy: 0.9173\n",
      "Epoch 10/10\n",
      "600/600 [==============================] - 50s 84ms/step - loss: 0.0129 - accuracy: 0.9962 - val_loss: 0.5238 - val_accuracy: 0.9183\n"
     ]
    }
   ],
   "source": [
    "# compile model\n",
    "model.compile(loss='categorical_crossentropy', optimizer='adam', metrics=['accuracy'])\n",
    "\n",
    "# train model\n",
    "history = model.fit(x_train, y_train, batch_size=100, epochs=10, validation_data=(x_test, y_test), shuffle=True)"
   ]
  },
  {
   "cell_type": "markdown",
   "metadata": {
    "id": "LXr_UWG6Xm8w"
   },
   "source": [
    "Evaluate your model"
   ]
  },
  {
   "cell_type": "code",
   "execution_count": 23,
   "metadata": {
    "colab": {
     "base_uri": "https://localhost:8080/",
     "height": 605
    },
    "id": "-pRq3pItXm8w",
    "outputId": "e6bc26d2-9ed1-42a5-9ff2-bc80708e0c14"
   },
   "outputs": [
    {
     "name": "stdout",
     "output_type": "stream",
     "text": [
      "[[859   2  18  18   4   1  92   0   6   0]\n",
      " [  2 979   1  12   3   0   3   0   0   0]\n",
      " [ 17   2 846  11  53   0  69   0   2   0]\n",
      " [ 14   2   8 932  20   0  23   0   1   0]\n",
      " [  2   1  35  20 884   0  57   0   1   0]\n",
      " [  0   0   0   0   0 985   0   7   0   8]\n",
      " [ 92   1  44  31  48   0 778   0   6   0]\n",
      " [  0   0   0   0   0   3   0 983   0  14]\n",
      " [  2   2   2   3   1   0   7   5 978   0]\n",
      " [  0   0   0   0   0   5   1  35   0 959]]\n",
      "[[0.859 0.002 0.018 0.018 0.004 0.001 0.092 0.    0.006 0.   ]\n",
      " [0.002 0.979 0.001 0.012 0.003 0.    0.003 0.    0.    0.   ]\n",
      " [0.017 0.002 0.846 0.011 0.053 0.    0.069 0.    0.002 0.   ]\n",
      " [0.014 0.002 0.008 0.932 0.02  0.    0.023 0.    0.001 0.   ]\n",
      " [0.002 0.001 0.035 0.02  0.884 0.    0.057 0.    0.001 0.   ]\n",
      " [0.    0.    0.    0.    0.    0.985 0.    0.007 0.    0.008]\n",
      " [0.092 0.001 0.044 0.031 0.048 0.    0.778 0.    0.006 0.   ]\n",
      " [0.    0.    0.    0.    0.    0.003 0.    0.983 0.    0.014]\n",
      " [0.002 0.002 0.002 0.003 0.001 0.    0.007 0.005 0.978 0.   ]\n",
      " [0.    0.    0.    0.    0.    0.005 0.001 0.035 0.    0.959]]\n"
     ]
    },
    {
     "data": {
      "image/png": "[encoded data removed]",
      "text/plain": [
       "<Figure size 432x288 with 1 Axes>"
      ]
     },
     "metadata": {
      "needs_background": "light",
      "tags": []
     },
     "output_type": "display_data"
    }
   ],
   "source": [
    "# Suggestion: Using the evaluation function.\n",
    "# Get y_pred for y_test from model.predict() then use evaluation(y_test, y_pred, fig_name, title)\n",
    "# with proper name for fig_name and title.\n",
    "# plot confusion matrix\n",
    "import sklearn.metrics\n",
    "\n",
    "y_pred = model.predict(x_test)\n",
    "y_pred = np.argmax(y_pred, axis=1)\n",
    "y_true = np.argmax(y_test, axis=1)\n",
    "\n",
    "conf = sklearn.metrics.confusion_matrix(y_true, y_pred, normalize=None)\n",
    "\n",
    "plt.imshow(conf)\n",
    "print(conf)\n",
    "\n",
    "conf_norm = sklearn.metrics.confusion_matrix(y_true, y_pred, normalize='true')\n",
    "print(np.round(conf_norm, 3))\n"
   ]
  },
  {
   "cell_type": "markdown",
   "metadata": {
    "id": "h-hDZUISXm8w"
   },
   "source": [
    "Show 10 bad loss images."
   ]
  },
  {
   "cell_type": "code",
   "execution_count": 72,
   "metadata": {
    "colab": {
     "base_uri": "https://localhost:8080/",
     "height": 1000
    },
    "id": "_AyQHYdxXm8w",
    "outputId": "49c67a11-0a72-47e0-ec8c-75cfe3463ab6"
   },
   "outputs": [
    {
     "name": "stdout",
     "output_type": "stream",
     "text": [
      "test label: 0 -> prediction label: 3\n",
      "[0. 0. 0. 1. 0. 0. 0. 0. 0. 0.]\n"
     ]
    },
    {
     "data": {
      "image/png": "[encoded data removed]",
      "text/plain": [
       "<Figure size 432x288 with 1 Axes>"
      ]
     },
     "metadata": {
      "tags": []
     },
     "output_type": "display_data"
    },
    {
     "name": "stdout",
     "output_type": "stream",
     "text": [
      "test label: 3 -> prediction label: 6\n",
      "[0.179 0.    0.    0.    0.    0.    0.821 0.    0.    0.   ]\n"
     ]
    },
    {
     "data": {
      "image/png": "[encoded data removed]",
      "text/plain": [
       "<Figure size 432x288 with 1 Axes>"
      ]
     },
     "metadata": {
      "tags": []
     },
     "output_type": "display_data"
    },
    {
     "name": "stdout",
     "output_type": "stream",
     "text": [
      "test label: 6 -> prediction label: 3\n",
      "[0. 0. 0. 1. 0. 0. 0. 0. 0. 0.]\n"
     ]
    },
    {
     "data": {
      "image/png": "[encoded data removed]",
      "text/plain": [
       "<Figure size 432x288 with 1 Axes>"
      ]
     },
     "metadata": {
      "tags": []
     },
     "output_type": "display_data"
    },
    {
     "name": "stdout",
     "output_type": "stream",
     "text": [
      "test label: 2 -> prediction label: 3\n",
      "[0. 0. 0. 1. 0. 0. 0. 0. 0. 0.]\n"
     ]
    },
    {
     "data": {
      "image/png": "[encoded data removed]",
      "text/plain": [
       "<Figure size 432x288 with 1 Axes>"
      ]
     },
     "metadata": {
      "tags": []
     },
     "output_type": "display_data"
    },
    {
     "name": "stdout",
     "output_type": "stream",
     "text": [
      "test label: 0 -> prediction label: 3\n",
      "[0. 0. 0. 1. 0. 0. 0. 0. 0. 0.]\n"
     ]
    },
    {
     "data": {
      "image/png": "[encoded data removed]",
      "text/plain": [
       "<Figure size 432x288 with 1 Axes>"
      ]
     },
     "metadata": {
      "tags": []
     },
     "output_type": "display_data"
    },
    {
     "name": "stdout",
     "output_type": "stream",
     "text": [
      "test label: 2 -> prediction label: 1\n",
      "[0. 1. 0. 0. 0. 0. 0. 0. 0. 0.]\n"
     ]
    },
    {
     "data": {
      "image/png": "[encoded data removed]",
      "text/plain": [
       "<Figure size 432x288 with 1 Axes>"
      ]
     },
     "metadata": {
      "tags": []
     },
     "output_type": "display_data"
    },
    {
     "name": "stdout",
     "output_type": "stream",
     "text": [
      "test label: 3 -> prediction label: 6\n",
      "[0. 0. 0. 0. 0. 0. 1. 0. 0. 0.]\n"
     ]
    },
    {
     "data": {
      "image/png": "[encoded data removed]",
      "text/plain": [
       "<Figure size 432x288 with 1 Axes>"
      ]
     },
     "metadata": {
      "tags": []
     },
     "output_type": "display_data"
    },
    {
     "name": "stdout",
     "output_type": "stream",
     "text": [
      "test label: 3 -> prediction label: 0\n",
      "[1. 0. 0. 0. 0. 0. 0. 0. 0. 0.]\n"
     ]
    },
    {
     "data": {
      "image/png": "[encoded data removed]",
      "text/plain": [
       "<Figure size 432x288 with 1 Axes>"
      ]
     },
     "metadata": {
      "tags": []
     },
     "output_type": "display_data"
    },
    {
     "name": "stdout",
     "output_type": "stream",
     "text": [
      "test label: 4 -> prediction label: 3\n",
      "[0. 0. 0. 1. 0. 0. 0. 0. 0. 0.]\n"
     ]
    },
    {
     "data": {
      "image/png": "[encoded data removed]",
      "text/plain": [
       "<Figure size 432x288 with 1 Axes>"
      ]
     },
     "metadata": {
      "tags": []
     },
     "output_type": "display_data"
    },
    {
     "name": "stdout",
     "output_type": "stream",
     "text": [
      "test label: 6 -> prediction label: 0\n",
      "[1. 0. 0. 0. 0. 0. 0. 0. 0. 0.]\n"
     ]
    },
    {
     "data": {
      "image/png": "[encoded data removed]",
      "text/plain": [
       "<Figure size 432x288 with 1 Axes>"
      ]
     },
     "metadata": {
      "tags": []
     },
     "output_type": "display_data"
    }
   ],
   "source": [
    "# Suggestion: Using the plotter function.\n",
    "y_pred = model.predict(x_test)\n",
    "idx = np.where(np.argmax(y_pred, axis=1) != np.argmax(y_test, axis=1))[0]\n",
    "errors = []\n",
    "for i in idx:\n",
    "    index = np.argmax(y_test[i])\n",
    "    errors.append((y_pred[i][index], i))\n",
    "\n",
    "for i in range(10):\n",
    "    worse_res = min(errors, key = lambda j : j[0])\n",
    "    print('test label: {} -> prediction label: {}'.format(np.argmax(y_test[worse_res[1]]), np.argmax(y_pred[worse_res[1]])))\n",
    "    print(np.round(y_pred[worse_res[1]], 3))\n",
    "    plt.figure()\n",
    "    plt.imshow(x_test[worse_res[1], ..., 0], cmap='gray')\n",
    "    plt.xticks([])\n",
    "    plt.yticks([])\n",
    "    plt.show()\n",
    "    errors.remove(worse_res)"
   ]
  },
  {
   "cell_type": "markdown",
   "metadata": {
    "id": "RnvlF72xXm8x"
   },
   "source": [
    "End!!!"
   ]
  }
 ],
 "metadata": {
  "accelerator": "GPU",
  "colab": {
   "collapsed_sections": [],
   "name": "HW13.ipynb",
   "provenance": []
  },
  "kernelspec": {
   "display_name": "Python 3",
   "language": "python",
   "name": "python3"
  },
  "language_info": {
   "codemirror_mode": {
    "name": "ipython",
    "version": 3
   },
   "file_extension": ".py",
   "mimetype": "text/x-python",
   "name": "python",
   "nbconvert_exporter": "python",
   "pygments_lexer": "ipython3",
   "version": "3.7.3"
  }
 },
 "nbformat": 4,
 "nbformat_minor": 1
}
